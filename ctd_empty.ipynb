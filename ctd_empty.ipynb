{
 "cells": [
  {
   "cell_type": "markdown",
   "id": "3da2a1b1",
   "metadata": {},
   "source": [
    "# Plotting CTD Data"
   ]
  },
  {
   "cell_type": "code",
   "execution_count": null,
   "id": "e2e494e6",
   "metadata": {},
   "outputs": [],
   "source": [
    "# import sys\n",
    "# !conda install --yes --prefix {sys.prefix} pandas\n",
    "# !conda install --yes --prefix {sys.prefix} matplotlib\n",
    "# !conda install --channel conda-forge --yes --prefix {sys.prefix} gsw\n"
   ]
  },
  {
   "cell_type": "code",
   "execution_count": null,
   "id": "962188a4",
   "metadata": {},
   "outputs": [],
   "source": [
    "import pandas as pd\n",
    "import numpy as np\n",
    "import gsw\n",
    "import matplotlib.pyplot as plt"
   ]
  },
  {
   "cell_type": "code",
   "execution_count": null,
   "id": "dc7da5c9",
   "metadata": {},
   "outputs": [],
   "source": [
    "# Load in a subset so we can calculate salinity,density,depth ourselves.\n",
    "data = pd.read_csv('./2021_02_08_ru34_Deployment_Orsted.cnv',\n",
    "                   skiprows=np.arange(0,123), # Lets us skip the big header at the top of the file\n",
    "                   names=['Temperature [°C]', # gives names to each of the columns \n",
    "                          'Conductivity [S/m]',\n",
    "                          'Pressure [db]'],\n",
    "                   index_col=False,           # Forces pandas to not take the first column as an index\n",
    "                   delimiter=' ',             # The data is separted into columns by spaces so we have to tell pandas that\n",
    "                   skipinitialspace=True,     # This tells pandas that any number of spaces means its a new value\n",
    "                  usecols=[0,1,2])            # Only pull out the 1st 2nd 3rd column of data\n",
    "\n",
    "print(data.keys())\n",
    "print(data)"
   ]
  },
  {
   "cell_type": "markdown",
   "id": "58ec9bec",
   "metadata": {},
   "source": [
    "_Whoops!_ We should not have a negative conductivity! When we use the CTD for glider missions, we typically start the sampling on the instrument before it is in the water so it might have sampled the air for a few seconds, giving us a negative conductivity. That bad data will screw us up later so let's get rid of it!"
   ]
  },
  {
   "cell_type": "code",
   "execution_count": null,
   "id": "2a17643f",
   "metadata": {},
   "outputs": [],
   "source": [
    "dropind = np.where(data['Conductivity [S/m]'] < 0)[0] # Find all the rows that have a negative Conductivity\n",
    "\n",
    "data.drop(index=dropind, inplace=True) # drop the rows indicated by drop ind\n",
    "data.reset_index(inplace=True, drop=True) # reset the index so the first value has index=0 and drop the old index.\n",
    "print(data)"
   ]
  },
  {
   "cell_type": "markdown",
   "id": "318e8d87",
   "metadata": {},
   "source": [
    "Great! Now the data is all cleaned up!"
   ]
  },
  {
   "cell_type": "markdown",
   "id": "cc0e8961",
   "metadata": {
    "tags": []
   },
   "source": [
    "# Use the `gsw` toolbox to solve for depth, practical salinity, and density\n"
   ]
  },
  {
   "cell_type": "markdown",
   "id": "aa25013c",
   "metadata": {},
   "source": [
    "We are going to use the `gsw` toolbox, which is preloaded with a bunch of critical equations and conversions, to calculate our salinity, density, and depth of our data from temperature, pressure, and conductivity. It is very important that the data we input into the gsw functions has the correct units that `gsw` expects.\n",
    "  \n",
    "Let's start with a calculation of praticial salinity. `gsw` has a function `gsw.conversions.SP_from_C` that I found by looking at the documentation for the package here https://teos-10.github.io/GSW-Python/conversions.html"
   ]
  },
  {
   "cell_type": "code",
   "execution_count": null,
   "id": "6853d861",
   "metadata": {},
   "outputs": [],
   "source": [
    "print(data.keys())\n",
    "?gsw.conversions.SP_from_C"
   ]
  },
  {
   "cell_type": "markdown",
   "id": "07619b40",
   "metadata": {},
   "source": [
    "Under `Parameters` in the above output, we can see the expected units for each unput to the function and compare them to our units in our data. It looks like our conducitivty is in different units so I will make sure to convert that before passing it to the function. We need to convert S-->mS and m-->cm so we end up just multiplying by 10."
   ]
  },
  {
   "cell_type": "code",
   "execution_count": null,
   "id": "dc14a24d",
   "metadata": {},
   "outputs": [],
   "source": [
    "PS = gsw.conversions.SP_from_C(data['Conductivity [S/m]']*10, \n",
    "                               data['Temperature [°C]'],\n",
    "                               data['Pressure [db]'])\n",
    "print(PS.head(5))\n"
   ]
  },
  {
   "cell_type": "markdown",
   "id": "3b78827e",
   "metadata": {},
   "source": [
    "A practical salinity in the 30s is the average for the surface ocean across the planet so that looks good to me! Let's move on to finding the depth!"
   ]
  },
  {
   "cell_type": "code",
   "execution_count": null,
   "id": "4c7bda44",
   "metadata": {},
   "outputs": [],
   "source": [
    "?gsw.conversions.z_from_p"
   ]
  },
  {
   "cell_type": "markdown",
   "id": "8dea436a",
   "metadata": {},
   "source": [
    "### _Side note_:  \n",
    "When you see an input in documentation that has an equal sign, that means that that is the default value and we don't NEED to put an input in for those parameters. This is the case for `geo_strf_dyn_height` and `sea_surface_geopotential` in the function we are going to use.\n",
    "```\n",
    "Signature:\n",
    "gsw.conversions.z_from_p(\n",
    "    p,\n",
    "    lat,\n",
    "    geo_strf_dyn_height=0,\n",
    "    sea_surface_geopotential=0,\n",
    "```"
   ]
  },
  {
   "cell_type": "code",
   "execution_count": null,
   "id": "404eebd8",
   "metadata": {},
   "outputs": [],
   "source": [
    "# Calculate depth from pressure\n",
    "\n",
    "depth = gsw.conversions.z_from_p(data['Pressure [db]'], lat= 39) # I got the latitude from the header of the data file\n",
    "print(depth)"
   ]
  },
  {
   "cell_type": "code",
   "execution_count": null,
   "id": "28aa3272",
   "metadata": {},
   "outputs": [],
   "source": [
    "mean = np.mean(depth)\n",
    "mean"
   ]
  },
  {
   "cell_type": "markdown",
   "id": "149be57f",
   "metadata": {},
   "source": [
    "_Woot!_ Now we have practical salinity and depth! All we have left is density and that should be one easy step!"
   ]
  },
  {
   "cell_type": "code",
   "execution_count": null,
   "id": "9a0ddf86",
   "metadata": {},
   "outputs": [],
   "source": [
    "?gsw.density.sigma0"
   ]
  },
  {
   "cell_type": "markdown",
   "id": "feedb8ad",
   "metadata": {},
   "source": [
    "_Boy was I wrong...._  \n",
    "It looks like we need absolute salinity and conservative temperature. Worry not! gsw has the tools for this."
   ]
  },
  {
   "cell_type": "code",
   "execution_count": null,
   "id": "9d634143",
   "metadata": {},
   "outputs": [],
   "source": [
    "?gsw.conversions.SA_from_SP"
   ]
  },
  {
   "cell_type": "code",
   "execution_count": null,
   "id": "e95b2d08",
   "metadata": {},
   "outputs": [],
   "source": [
    "?gsw.conversions.CT_from_t"
   ]
  },
  {
   "cell_type": "markdown",
   "id": "dde8d11b",
   "metadata": {},
   "source": [
    "Ok so we need to find the absolute salinity first and then use that to get the conservative temperature which we then use to get the potential density. "
   ]
  },
  {
   "cell_type": "code",
   "execution_count": null,
   "id": "43914123",
   "metadata": {},
   "outputs": [],
   "source": [
    "SA = gsw.conversions.SA_from_SP(PS,data['Pressure [db]'].values, lon=-74,lat=39)\n",
    "\n",
    "CT = gsw.conversions.CT_from_t(SA, data['Temperature [°C]'].values, data['Pressure [db]'].values)\n",
    "print(CT)"
   ]
  },
  {
   "cell_type": "code",
   "execution_count": null,
   "id": "cb434d89",
   "metadata": {},
   "outputs": [],
   "source": [
    "rho = gsw.density.sigma0(SA,CT)\n",
    "print(rho)"
   ]
  },
  {
   "cell_type": "markdown",
   "id": "1ea524ae",
   "metadata": {},
   "source": [
    "### We made it!"
   ]
  },
  {
   "cell_type": "markdown",
   "id": "94ea0d21",
   "metadata": {},
   "source": [
    "Now we have our temperature, salinity, density, and depth! \n",
    "One last step, I want to add all that data into one dataframe so that it is easier to keep track of.  "
   ]
  },
  {
   "cell_type": "code",
   "execution_count": null,
   "id": "66bb464b",
   "metadata": {},
   "outputs": [],
   "source": [
    "data['Salinity [PSU]'] = PS\n",
    "data['Depth [m]']      = depth\n",
    "data['Density [kg/m3]']= rho"
   ]
  },
  {
   "cell_type": "markdown",
   "id": "67dc0fa0",
   "metadata": {},
   "source": [
    "Next we are going to plot this data so we can learn more about the water column on the day this sample was taken.  \n"
   ]
  },
  {
   "cell_type": "markdown",
   "id": "52739837",
   "metadata": {},
   "source": [
    "# Plotting profiles"
   ]
  },
  {
   "cell_type": "markdown",
   "id": "424ca1c5",
   "metadata": {},
   "source": [
    "I like to plot in situ temperature, practical salinity, and potential density so we are going to plot those along side each other."
   ]
  },
  {
   "cell_type": "code",
   "execution_count": null,
   "id": "8d6502c7",
   "metadata": {},
   "outputs": [],
   "source": [
    "# First let's create our plotting area\n",
    "fig = plt.figure(figsize=(10.0, 10.0))\n",
    "\n",
    "# and add panels to plot in\n",
    "axes1 = fig.add_subplot(1, 3, 1)\n",
    "axes2 = fig.add_subplot(1, 3, 2)\n",
    "axes3 = fig.add_subplot(1, 3, 3)"
   ]
  },
  {
   "cell_type": "markdown",
   "id": "c2d93c9c",
   "metadata": {},
   "source": [
    "`plt.figure` sets up a space for us to plot while `fig.add_suplot` adds panels to the figure `fig`.  \n",
    "In `fig.add_subplot` the three numbers tell matplotlib (the number of rows, the number of columns, and the position of the axes we are making in each line of code.  \n",
    "\n",
    "Blank axes are great and all but why dont we add some data?"
   ]
  },
  {
   "cell_type": "code",
   "execution_count": null,
   "id": "6bc6c8a1",
   "metadata": {},
   "outputs": [],
   "source": [
    "# First let's create our plotting area\n",
    "fig = plt.figure(figsize=(10.0, 10.0))\n",
    "\n",
    "# and add panels to plot in\n",
    "axes1 = fig.add_subplot(1, 3, 1)\n",
    "axes2 = fig.add_subplot(1, 3, 2)\n",
    "axes3 = fig.add_subplot(1, 3, 3)\n",
    "\n",
    "axes1.plot(data['Temperature [°C]'],data['Depth [m]'])\n",
    "\n",
    "axes2.plot(data['Salinity [PSU]'],data['Depth [m]'])\n",
    "\n",
    "axes3.plot(data['Density [kg/m3]'],data['Depth [m]'])"
   ]
  },
  {
   "cell_type": "markdown",
   "id": "d6329b62",
   "metadata": {},
   "source": [
    "Sweet now we have lines! It looks like this data was collected as the CTD was dunked and as it was pulled back up so we cover every depth twice. I think I may have forgotten the Cardinal Rule of making a graph. There is no title or axes labels or units!"
   ]
  },
  {
   "cell_type": "code",
   "execution_count": null,
   "id": "d391bb5a",
   "metadata": {},
   "outputs": [],
   "source": [
    "# First let's create our plotting area\n",
    "fig = plt.figure(figsize=(14.0, 8.0))\n",
    "\n",
    "# and add panels to plot in\n",
    "axes1 = fig.add_subplot(1, 3, 1)\n",
    "axes2 = fig.add_subplot(1, 3, 2)\n",
    "axes3 = fig.add_subplot(1, 3, 3)\n",
    "\n",
    "axes1.plot(data['Temperature [°C]'],data['Depth [m]'])\n",
    "axes2.plot(data['Salinity [PSU]'],data['Depth [m]'])\n",
    "axes3.plot(data['Density [kg/m3]'],data['Depth [m]'])\n",
    "\n",
    "axes1.set_ylabel('Depth [m]')\n",
    "axes1.set_xlabel('Temperature [°C]')\n",
    "axes1.set_title('Temperature [°C]')\n",
    "\n",
    "axes2.set_ylabel('Depth [m]')\n",
    "axes2.set_xlabel('Salinity [PSU]')\n",
    "axes2.set_title('Salinity [PSU]')\n",
    "\n",
    "axes3.set_ylabel('Depth [m]')\n",
    "axes3.set_xlabel('Density [kg/m^3]')\n",
    "axes3.set_title('Density [kg/m^3]')\n",
    "\n",
    "plt.suptitle('CTD cast from 2/8/2021 off NJ')"
   ]
  },
  {
   "cell_type": "markdown",
   "id": "686068bd",
   "metadata": {},
   "source": [
    "Something still looks _wonky_ with the upper couple meters of data. Why don't we zoom in on the right side of each plot by setting our x axis limits using `axes1.set_xlim` and repeating for each axes"
   ]
  },
  {
   "cell_type": "code",
   "execution_count": null,
   "id": "11ac8bcd",
   "metadata": {},
   "outputs": [],
   "source": [
    "# First let's create our plotting area\n",
    "fig = plt.figure(figsize=(14.0, 8.0))\n",
    "\n",
    "# and add panels to plot in\n",
    "axes1 = fig.add_subplot(1, 3, 1)\n",
    "axes2 = fig.add_subplot(1, 3, 2)\n",
    "axes3 = fig.add_subplot(1, 3, 3)\n",
    "\n",
    "axes1.plot(data['Temperature [°C]'],data['Depth [m]'])\n",
    "axes2.plot(data['Salinity [PSU]'],data['Depth [m]'])\n",
    "axes3.plot(data['Density [kg/m3]'],data['Depth [m]'])\n",
    "\n",
    "axes1.set_ylabel('Depth [m]')\n",
    "axes1.set_xlabel('Temperature [°C]')\n",
    "axes1.set_title('Temperature [°C]')\n",
    "axes1.set_xlim([5,5.7])\n",
    "\n",
    "axes2.set_ylabel('Depth [m]')\n",
    "axes2.set_xlabel('Salinity [PSU]')\n",
    "axes2.set_title('Salinity [PSU]')\n",
    "axes2.set_xlim([32,33.5])\n",
    "\n",
    "axes3.set_ylabel('Depth [m]')\n",
    "axes3.set_xlabel('Density [kg/m^3]')\n",
    "axes3.set_title('Density [kg/m^3]')\n",
    "axes3.set_xlim([25.4,26])\n",
    "\n",
    "plt.suptitle('CTD cast from 2/8/2021 off NJ')"
   ]
  },
  {
   "cell_type": "markdown",
   "id": "6bb825f9",
   "metadata": {},
   "source": [
    "Now we can see some of the variability in these properties over depth! There is a slightly warmer surface layer, salinity increases with depth, and density increases with depth so the water column seems stable!  "
   ]
  },
  {
   "cell_type": "markdown",
   "id": "3d5af68e",
   "metadata": {},
   "source": [
    "# Plotting T-S diagram\n",
    "Making a scatter plot relating Salinity and Temperature can inform us about different water masses encountered in the data. We can plot three variables on a scatter plot by assigning one variable to the x-axis, one to the y-axis, and one to the color of the scattered datapoints."
   ]
  },
  {
   "cell_type": "code",
   "execution_count": null,
   "id": "3b8bcdf5",
   "metadata": {},
   "outputs": [],
   "source": [
    "fig = plt.figure(figsize=(14.0, 8.0))\n",
    "\n",
    "plt.scatter(data['Salinity [PSU]'], data['Temperature [°C]'], s=40, c=data['Density [kg/m3]'])\n",
    "plt.colorbar()\n",
    "\n",
    "plt.title('Temperature and Salinity Plot, RU34')\n",
    "plt.xlabel('Salinity [PSU]')\n",
    "plt.ylabel('Temperature [°C]')"
   ]
  },
  {
   "cell_type": "markdown",
   "id": "8680cd99",
   "metadata": {},
   "source": [
    "Looks like we've got some fresh, cold water and some warmer, saliter water. Let's zoom in on the warmer saltier water to see if we can decipher any more detail in that blob. We're going to use `plt.xlim` and `plt.ylim` to bound our axes, and then `vmin` and `vmax` to bound our colorbar."
   ]
  },
  {
   "cell_type": "code",
   "execution_count": null,
   "id": "69b4e3f6",
   "metadata": {},
   "outputs": [],
   "source": [
    "fig = plt.figure(figsize=(14.0, 8.0))\n",
    "plt.scatter(data['Salinity [PSU]'], data['Temperature [°C]'], s=40, c=data['Density [kg/m3]'], vmin = 24, vmax = 26)\n",
    "plt.colorbar()\n",
    "plt.xlim([30, 34])\n",
    "plt.ylim([4,5.8])\n",
    "\n",
    "plt.title('Temperature and Salinity Plot, RU34')\n",
    "plt.xlabel('Salinity [PSU]')\n",
    "plt.ylabel('Temperature [°C]')"
   ]
  },
  {
   "cell_type": "markdown",
   "id": "64edf84d",
   "metadata": {},
   "source": [
    "Next, we will add contour lines of constant density. <br>\n",
    "To do this, we define our own function for adding contour lines using a `def` command. This function will run all of these lines of code when we input the correct parameters into `plot_TS_Contour`. This function will then `return` the variable cs, which contains our desired contour lines."
   ]
  },
  {
   "cell_type": "code",
   "execution_count": null,
   "id": "69299b0a",
   "metadata": {},
   "outputs": [],
   "source": [
    "def plot_TS_contours(T,S):\n",
    "    mint=np.nanmin(T)\n",
    "    maxt=np.nanmax(T)\n",
    "    mins=np.nanmin(S)\n",
    "    maxs=np.nanmax(S)\n",
    "    tempL=np.linspace(mint-1,maxt+1,399)\n",
    "    salL=np.linspace(mins-1,maxs+1,399)\n",
    "    Tg, Sg = np.meshgrid(tempL,salL)\n",
    "    sigma_theta = gsw.sigma0(Sg, Tg)+1000 # ignore effects of pressure on density\n",
    "    cnt = np.linspace(sigma_theta.min(), sigma_theta.max(),399)\n",
    "    cs = ax.contour(Sg, Tg, sigma_theta, colors='grey', zorder=1 ,levels=np.arange(sigma_theta.min(), sigma_theta.max()+1,1))\n",
    "    cl= ax.clabel(cs,fontsize=10,inline=True,fmt='%.1f')\n",
    "    return cs"
   ]
  },
  {
   "cell_type": "markdown",
   "id": "550e69ee",
   "metadata": {},
   "source": [
    "Now that are function is defined, we can use it!"
   ]
  },
  {
   "cell_type": "code",
   "execution_count": null,
   "id": "c7175b95",
   "metadata": {},
   "outputs": [],
   "source": [
    "fig,ax=plt.subplots(figsize=(10,10))\n",
    "sc = plt.scatter(data['Salinity [PSU]'], data['Temperature [°C]'], s=40, c=data['Density [kg/m3]'], vmin = 24, vmax = 26)\n",
    "cb = plt.colorbar()\n",
    "ax.set_xlim([30,34])\n",
    "ax.set_ylim([4,5.8])\n",
    "\n",
    "plt.title('Temperature and Salinity Plot, CTD cast from 8/12/2021 off N')\n",
    "plt.xlabel('Salinity [PSU]')\n",
    "plt.ylabel('Temperature [°C]')\n",
    "cont = plot_TS_contours( data['Temperature [°C]'],data['Salinity [PSU]'])"
   ]
  },
  {
   "cell_type": "markdown",
   "id": "a00a2cd6",
   "metadata": {},
   "source": [
    "Nice job! Now you have plotted oceanographic data!  \n",
    "\n",
    "Below, I want you to repeat these quality control, calculation, and plotting steps for another data file. I will load it in for you but you have to do the rest! Use these notes to help you out along the way!"
   ]
  },
  {
   "cell_type": "markdown",
   "id": "cab53a55",
   "metadata": {},
   "source": [
    "# Now you do it!\n",
    "Use the code below to load in a different CTD cast (this one is from August). <br>\n",
    "(1) Remove the header and the data from before the instrument was in the water. <br>\n",
    "(2) Calculate density and depth, then plot profiles for temperature, salinity, and density as we did above. <br>\n",
    "(3) Plot a T-S diagram for this CTD cast. <br>\n",
    "(4) How does this cast differ from the one above? How is it the similar? What are some potential reasons from these similarities / differences?"
   ]
  },
  {
   "cell_type": "code",
   "execution_count": null,
   "id": "f1fa7ce8",
   "metadata": {},
   "outputs": [],
   "source": [
    "data2 = pd.read_csv('./2021_08_12_mara02_recovery.cnv',\n",
    "                   skiprows=np.arange(0,124), # Lets us skip the big header at the top of the file\n",
    "                   names=['Temperature [°C]', # gives names to each of the columns \n",
    "                          'Conductivity [S/m]',\n",
    "                          'Pressure [db]'],\n",
    "                   index_col=False,           # Forces pandas to not take the first column as an index\n",
    "                   delimiter=' ',             # The data is separted into columns by spaces so we have to tell pandas that\n",
    "                   skipinitialspace=True,     # This tells pandas that any number of spaces means its a new value\n",
    "                  usecols=[0,1,2])            # Only pull out the 1st 2nd 3rd column of data\n",
    "\n",
    "print(data2.keys())\n",
    "print(data2)"
   ]
  },
  {
   "cell_type": "code",
   "execution_count": null,
   "id": "d8b8d562-a78c-42ca-aadb-5675b027ebb6",
   "metadata": {},
   "outputs": [],
   "source": []
  }
 ],
 "metadata": {
  "kernelspec": {
   "display_name": "Python 3",
   "language": "python",
   "name": "python3"
  },
  "language_info": {
   "codemirror_mode": {
    "name": "ipython",
    "version": 3
   },
   "file_extension": ".py",
   "mimetype": "text/x-python",
   "name": "python",
   "nbconvert_exporter": "python",
   "pygments_lexer": "ipython3",
   "version": "3.7.6"
  }
 },
 "nbformat": 4,
 "nbformat_minor": 5
}
